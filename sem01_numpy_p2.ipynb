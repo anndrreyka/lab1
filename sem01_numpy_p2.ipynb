{
 "cells": [
  {
   "cell_type": "markdown",
   "metadata": {},
   "source": [
    "# Семинар 1"
   ]
  },
  {
   "cell_type": "markdown",
   "metadata": {},
   "source": [
    "- про Jupyter Notebook: https://devpractice.ru/python-lesson-6-work-in-jupyter-notebook/"
   ]
  },
  {
   "cell_type": "markdown",
   "metadata": {},
   "source": [
    "## numpy"
   ]
  },
  {
   "cell_type": "markdown",
   "metadata": {},
   "source": [
    "- документация: http://www.numpy.org/"
   ]
  },
  {
   "cell_type": "markdown",
   "metadata": {},
   "source": [
    "Библиотека numpy является удобным инструментом для работы с многомерными массивами с возможностью векторизации вычислений. Рассмотрим базовые вещи, которые можно делать с помощью нее."
   ]
  },
  {
   "cell_type": "code",
   "execution_count": null,
   "metadata": {},
   "outputs": [],
   "source": [
    "import numpy as np"
   ]
  },
  {
   "cell_type": "code",
   "execution_count": null,
   "metadata": {},
   "outputs": [],
   "source": [
    "vec = np.array([[1, 2], [3, 4], [5, 6]])"
   ]
  },
  {
   "cell_type": "code",
   "execution_count": null,
   "metadata": {},
   "outputs": [],
   "source": [
    "vec"
   ]
  },
  {
   "cell_type": "code",
   "execution_count": null,
   "metadata": {},
   "outputs": [],
   "source": [
    "print(vec)"
   ]
  },
  {
   "cell_type": "markdown",
   "metadata": {},
   "source": [
    "С чем мы работаем?"
   ]
  },
  {
   "cell_type": "code",
   "execution_count": null,
   "metadata": {},
   "outputs": [],
   "source": [
    "vec.dtype"
   ]
  },
  {
   "cell_type": "code",
   "execution_count": null,
   "metadata": {},
   "outputs": [],
   "source": [
    "type(vec)"
   ]
  },
  {
   "cell_type": "markdown",
   "metadata": {},
   "source": [
    "Размер массива:"
   ]
  },
  {
   "cell_type": "code",
   "execution_count": null,
   "metadata": {},
   "outputs": [],
   "source": [
    "vec.shape"
   ]
  },
  {
   "cell_type": "markdown",
   "metadata": {},
   "source": [
    "Число осей:"
   ]
  },
  {
   "cell_type": "code",
   "execution_count": null,
   "metadata": {},
   "outputs": [],
   "source": [
    "vec.ndim"
   ]
  },
  {
   "cell_type": "markdown",
   "metadata": {},
   "source": [
    "У некоторых функций бывает параметр `axis`, который позволяет применить эту функцию по разным осям - в данном случае, по строкам или столбцам:"
   ]
  },
  {
   "cell_type": "code",
   "execution_count": null,
   "metadata": {},
   "outputs": [],
   "source": [
    "np.sum(vec)"
   ]
  },
  {
   "cell_type": "code",
   "execution_count": null,
   "metadata": {},
   "outputs": [],
   "source": [
    "np.sum(vec, axis=0)"
   ]
  },
  {
   "cell_type": "code",
   "execution_count": null,
   "metadata": {},
   "outputs": [],
   "source": [
    "np.sum(vec, axis=1)"
   ]
  },
  {
   "cell_type": "code",
   "execution_count": null,
   "metadata": {},
   "outputs": [],
   "source": [
    "vec.sum()"
   ]
  },
  {
   "cell_type": "markdown",
   "metadata": {},
   "source": [
    "Транспонируем массив:"
   ]
  },
  {
   "cell_type": "code",
   "execution_count": null,
   "metadata": {},
   "outputs": [],
   "source": [
    "vec.T"
   ]
  },
  {
   "cell_type": "code",
   "execution_count": null,
   "metadata": {},
   "outputs": [],
   "source": [
    "vec.transpose()"
   ]
  },
  {
   "cell_type": "markdown",
   "metadata": {},
   "source": [
    "Обратите внимание, что переменная `vec` не поменялась!"
   ]
  },
  {
   "cell_type": "code",
   "execution_count": null,
   "metadata": {},
   "outputs": [],
   "source": [
    "vec"
   ]
  },
  {
   "cell_type": "markdown",
   "metadata": {},
   "source": [
    "Размеры массивов можно менять:"
   ]
  },
  {
   "cell_type": "code",
   "execution_count": null,
   "metadata": {},
   "outputs": [],
   "source": [
    "vec.reshape(2, 3)"
   ]
  },
  {
   "cell_type": "code",
   "execution_count": null,
   "metadata": {},
   "outputs": [],
   "source": [
    "vec.reshape(-1, 3)"
   ]
  },
  {
   "cell_type": "code",
   "execution_count": null,
   "metadata": {},
   "outputs": [],
   "source": [
    "vec.reshape(2, -1)"
   ]
  },
  {
   "cell_type": "markdown",
   "metadata": {},
   "source": [
    "Индексирование:"
   ]
  },
  {
   "cell_type": "code",
   "execution_count": null,
   "metadata": {},
   "outputs": [],
   "source": [
    "vec[:, 1]"
   ]
  },
  {
   "cell_type": "code",
   "execution_count": null,
   "metadata": {},
   "outputs": [],
   "source": [
    "vec[2, :]"
   ]
  },
  {
   "cell_type": "code",
   "execution_count": null,
   "metadata": {},
   "outputs": [],
   "source": [
    "vec[1:2, 0]"
   ]
  },
  {
   "cell_type": "code",
   "execution_count": null,
   "metadata": {},
   "outputs": [],
   "source": [
    "vec[::2, :]"
   ]
  },
  {
   "cell_type": "code",
   "execution_count": null,
   "metadata": {},
   "outputs": [],
   "source": [
    "vec[vec % 2 == 0]"
   ]
  },
  {
   "cell_type": "markdown",
   "metadata": {},
   "source": [
    "Иногда бывает полезно создавать специфичные массивы. Массив из нулей:"
   ]
  },
  {
   "cell_type": "code",
   "execution_count": null,
   "metadata": {},
   "outputs": [],
   "source": [
    "np.zeros((2, 3))"
   ]
  },
  {
   "cell_type": "markdown",
   "metadata": {},
   "source": [
    "Массив из единиц:"
   ]
  },
  {
   "cell_type": "code",
   "execution_count": null,
   "metadata": {},
   "outputs": [],
   "source": [
    "np.ones((3, 2))"
   ]
  },
  {
   "cell_type": "markdown",
   "metadata": {},
   "source": [
    "Единичная матрица:"
   ]
  },
  {
   "cell_type": "code",
   "execution_count": null,
   "metadata": {},
   "outputs": [],
   "source": [
    "np.identity(5)"
   ]
  },
  {
   "cell_type": "markdown",
   "metadata": {},
   "source": [
    "Массивы можно объединять:"
   ]
  },
  {
   "cell_type": "code",
   "execution_count": null,
   "metadata": {},
   "outputs": [],
   "source": [
    "vec"
   ]
  },
  {
   "cell_type": "code",
   "execution_count": null,
   "metadata": {},
   "outputs": [],
   "source": [
    "np.hstack((vec, np.zeros(vec.shape)))"
   ]
  },
  {
   "cell_type": "code",
   "execution_count": null,
   "metadata": {},
   "outputs": [],
   "source": [
    "np.vstack((vec, np.zeros(vec.shape)))"
   ]
  },
  {
   "cell_type": "markdown",
   "metadata": {},
   "source": [
    "И, наконец - арифметические операции!"
   ]
  },
  {
   "cell_type": "code",
   "execution_count": null,
   "metadata": {},
   "outputs": [],
   "source": [
    "vec + 1"
   ]
  },
  {
   "cell_type": "code",
   "execution_count": null,
   "metadata": {},
   "outputs": [],
   "source": [
    "vec * 2"
   ]
  },
  {
   "cell_type": "code",
   "execution_count": null,
   "metadata": {},
   "outputs": [],
   "source": [
    "vec ** 2"
   ]
  },
  {
   "cell_type": "code",
   "execution_count": null,
   "metadata": {},
   "outputs": [],
   "source": [
    "vec + vec ** 2"
   ]
  },
  {
   "cell_type": "code",
   "execution_count": null,
   "metadata": {},
   "outputs": [],
   "source": [
    "vec * vec ** 2"
   ]
  },
  {
   "cell_type": "code",
   "execution_count": null,
   "metadata": {},
   "outputs": [],
   "source": [
    "np.sin(vec)"
   ]
  },
  {
   "cell_type": "markdown",
   "metadata": {},
   "source": [
    "Матричное умножение:"
   ]
  },
  {
   "cell_type": "code",
   "execution_count": null,
   "metadata": {},
   "outputs": [],
   "source": [
    "vec.dot(vec ** 2)"
   ]
  },
  {
   "cell_type": "code",
   "execution_count": null,
   "metadata": {},
   "outputs": [],
   "source": [
    "vec.dot((vec ** 2).T)"
   ]
  },
  {
   "cell_type": "code",
   "execution_count": null,
   "metadata": {},
   "outputs": [],
   "source": [
    "vec @ (vec ** 2).T"
   ]
  },
  {
   "cell_type": "markdown",
   "metadata": {},
   "source": [
    "Broadcasting:\n",
    "https://docs.scipy.org/doc/numpy-1.15.0/user/basics.broadcasting.html"
   ]
  },
  {
   "cell_type": "code",
   "execution_count": null,
   "metadata": {},
   "outputs": [],
   "source": [
    "vec"
   ]
  },
  {
   "cell_type": "code",
   "execution_count": null,
   "metadata": {},
   "outputs": [],
   "source": [
    "np.arange(3).reshape(3, 1)"
   ]
  },
  {
   "cell_type": "code",
   "execution_count": null,
   "metadata": {},
   "outputs": [],
   "source": [
    "vec + np.arange(3).reshape(3, 1)"
   ]
  },
  {
   "cell_type": "markdown",
   "metadata": {},
   "source": [
    "Генерация случайных чисел:"
   ]
  },
  {
   "cell_type": "code",
   "execution_count": null,
   "metadata": {},
   "outputs": [],
   "source": [
    "np.random.rand(2, 3)"
   ]
  },
  {
   "cell_type": "code",
   "execution_count": null,
   "metadata": {},
   "outputs": [],
   "source": [
    "np.random.seed(2019)\n",
    "np.random.rand(2, 3)"
   ]
  },
  {
   "cell_type": "code",
   "execution_count": null,
   "metadata": {},
   "outputs": [],
   "source": [
    "np.random.randn(3, 2)"
   ]
  },
  {
   "cell_type": "code",
   "execution_count": null,
   "metadata": {},
   "outputs": [],
   "source": [
    "np.random.normal(2, 1, size=3)"
   ]
  },
  {
   "cell_type": "code",
   "execution_count": null,
   "metadata": {},
   "outputs": [],
   "source": [
    "np.random.randint(5, 10, size=3)"
   ]
  },
  {
   "cell_type": "markdown",
   "metadata": {},
   "source": [
    "Почему вообще используют `numpy`?"
   ]
  },
  {
   "cell_type": "code",
   "execution_count": null,
   "metadata": {},
   "outputs": [],
   "source": [
    "n = 300\n",
    "A = np.random.rand(n, n)\n",
    "B = np.random.rand(n, n)"
   ]
  },
  {
   "cell_type": "code",
   "execution_count": null,
   "metadata": {},
   "outputs": [],
   "source": [
    "%%time\n",
    "C = np.zeros((n, n))\n",
    "for i in range(n):\n",
    "    for j in range(n):\n",
    "        for k in range(n):\n",
    "            C[i, j] += A[i, k] * B[k, j]"
   ]
  },
  {
   "cell_type": "code",
   "execution_count": null,
   "metadata": {},
   "outputs": [],
   "source": [
    "%%time\n",
    "C = A @ B"
   ]
  },
  {
   "cell_type": "markdown",
   "metadata": {},
   "source": [
    "### Задания для самостоятельного решения"
   ]
  },
  {
   "cell_type": "markdown",
   "metadata": {},
   "source": [
    "1. Развернуть одномерный массив (сделать так, чтобы его элементы шли в обратном порядке).\n",
    "2. Найти максимальный нечетный элемент в массиве.\n",
    "3. Замените все нечетные элементы массива на ваше любимое число.\n",
    "4. Создайте массив первых n нечетных чисел, записанных в порядке убывания. Например, если `n=5`, то ответом будет `array([9, 7, 5, 3, 1])`. *Функции, которые могут пригодиться при решении: `.arange()`*\n",
    "5. Вычислите самое близкое и самое дальнее числа к данному в рассматриваемом массиве чисел. Например, если на вход поступают массив `array([0, 1, 2, 3, 4])` и число 1.33, то ответом будет `(1, 4)`. _Функции, которые могут пригодиться при решении: `.abs()`, `.argmax()`, `.argmin()`_\n",
    "6. Вычисляющую первообразную заданного полинома (в качестве константы возьмите ваше любимое число). Например, если на вход поступает массив коэффициентов `array([4, 6, 0, 1])`, что соответствует полиному $4x^3 + 6x^2 + 1$, на выходе получается массив коэффициентов `array([1, 2, 0, 1, -2])`, соответствующий полиному $x^4 + 2x^3 + x - 2$. _Функции, которые могут пригодиться при решении: `.append()`_\n",
    "7. Пользуясь пунктом 6, посчитайте первую производную для заданного полинома в заданной точке."
   ]
  },
  {
   "cell_type": "code",
   "execution_count": 3,
   "metadata": {},
   "outputs": [
    {
     "name": "stdout",
     "output_type": "stream",
     "text": [
      "[30, 29, 28, 27, 26, 25, 24, 23, 22, 21, 20, 19, 18, 17, 16, 15, 14, 13, 12, 11, 10, 9, 8, 7, 6, 5, 4, 3, 2, 1]\n"
     ]
    }
   ],
   "source": [
    "array = list(range(1, 31))\n",
    "\n",
    "\n",
    "reversed_array = array[::-1]\n",
    "\n",
    "print(reversed_array)\n"
   ]
  },
  {
   "cell_type": "code",
   "execution_count": 5,
   "metadata": {},
   "outputs": [
    {
     "name": "stdout",
     "output_type": "stream",
     "text": [
      "Максимальный нечетный элемент в массиве: 29\n"
     ]
    }
   ],
   "source": [
    "array = list(range(1, 31))\n",
    "\n",
    "max_odd = None\n",
    "\n",
    "\n",
    "for num in array:\n",
    "    \n",
    "    if num % 2 != 0:\n",
    "        if max_odd is None or num > max_odd:\n",
    "            max_odd = num\n",
    "\n",
    "\n",
    "if max_odd is not None:\n",
    "    print(\"Максимальный нечетный элемент в массиве:\", max_odd)\n",
    "else:\n",
    "    print(\"В массиве нет нечетных элементов.\")"
   ]
  },
  {
   "cell_type": "code",
   "execution_count": 7,
   "metadata": {},
   "outputs": [
    {
     "name": "stdout",
     "output_type": "stream",
     "text": [
      "Массив после замены нечетных элементов на число 7: [7, 2, 7, 4, 7, 6, 7, 8, 7, 10, 7, 12, 7, 14, 7, 16, 7, 18, 7, 20, 7, 22, 7, 24, 7, 26, 7, 28, 7, 30]\n"
     ]
    }
   ],
   "source": [
    "array = list(range(1, 31))\n",
    "\n",
    "for i in range(len(array)):\n",
    "    if array[i] % 2 != 0:\n",
    "        array[i] = 7\n",
    "\n",
    "# Вывод результата\n",
    "print(\"Массив после замены нечетных элементов на число 7:\", array)"
   ]
  },
  {
   "cell_type": "code",
   "execution_count": 9,
   "metadata": {},
   "outputs": [
    {
     "name": "stdout",
     "output_type": "stream",
     "text": [
      "Массив первых 6 нечетных чисел, записанных в порядке убывания: [11  9  7  5  3  1]\n"
     ]
    }
   ],
   "source": [
    "import numpy as np\n",
    "\n",
    "def first_n_odd_descending(n):\n",
    "    \n",
    "    result_array = np.arange(2*n - 1, 0, -2)\n",
    "    return result_array\n",
    "\n",
    "\n",
    "n = 6\n",
    "result = first_n_odd_descending(n)\n",
    "print(\"Массив первых\", n, \"нечетных чисел, записанных в порядке убывания:\", result)\n"
   ]
  },
  {
   "cell_type": "code",
   "execution_count": 10,
   "metadata": {},
   "outputs": [
    {
     "name": "stdout",
     "output_type": "stream",
     "text": [
      "Самое близкое число к 1.33 : 1\n",
      "Самое дальнее число от 1.33 : 4\n"
     ]
    }
   ],
   "source": [
    "import numpy as np\n",
    "\n",
    "def closest_farthest_numbers(array, number):\n",
    "   \n",
    "    abs_diff = np.abs(array - number)\n",
    "    \n",
    "   \n",
    "    closest_index = np.argmin(abs_diff)\n",
    "    \n",
    "   \n",
    "    farthest_index = np.argmax(abs_diff)\n",
    "    \n",
    "    return array[closest_index], array[farthest_index]\n",
    "\n",
    "\n",
    "array = np.array([0, 1, 2, 3, 4])\n",
    "number = 1.33\n",
    "closest, farthest = closest_farthest_numbers(array, number)\n",
    "print(\"Самое близкое число к\", number, \":\", closest)\n",
    "print(\"Самое дальнее число от\", number, \":\", farthest)\n"
   ]
  },
  {
   "cell_type": "code",
   "execution_count": 11,
   "metadata": {},
   "outputs": [
    {
     "name": "stdout",
     "output_type": "stream",
     "text": [
      "Коэффициенты первообразной: [1. 2. 0. 1. 7.]\n"
     ]
    }
   ],
   "source": [
    "import numpy as np\n",
    "\n",
    "def antiderivative(coefficients, constant):\n",
    "    antiderivative_coeffs = []\n",
    "\n",
    "    for i, coeff in enumerate(coefficients):\n",
    "        power = len(coefficients) - i\n",
    "\n",
    "        antiderivative_coeff = coeff / power\n",
    "\n",
    "      \n",
    "        antiderivative_coeffs.append(antiderivative_coeff)\n",
    "\n",
    "\n",
    "    antiderivative_coeffs.append(constant)\n",
    "\n",
    "    return np.array(antiderivative_coeffs)\n",
    "\n",
    "\n",
    "coefficients = np.array([4, 6, 0, 1])\n",
    "constant = 7\n",
    "antiderivative_coeffs = antiderivative(coefficients, constant)\n",
    "print(\"Коэффициенты первообразной:\", antiderivative_coeffs)\n"
   ]
  },
  {
   "cell_type": "code",
   "execution_count": null,
   "metadata": {},
   "outputs": [],
   "source": []
  },
  {
   "cell_type": "code",
   "execution_count": 13,
   "metadata": {},
   "outputs": [
    {
     "name": "stdout",
     "output_type": "stream",
     "text": [
      "Коэффициенты первообразной: [1. 2. 0. 1. 7.]\n",
      "Значение первой производной в точке 2 : 41.0\n"
     ]
    }
   ],
   "source": [
    "import numpy as np\n",
    "\n",
    "def antiderivative(coefficients, constant):\n",
    "    antiderivative_coeffs = []\n",
    "\n",
    "    for i, coeff in enumerate(coefficients):\n",
    "        power = len(coefficients) - i\n",
    "        antiderivative_coeff = coeff / power\n",
    "        antiderivative_coeffs.append(antiderivative_coeff)\n",
    "\n",
    "    antiderivative_coeffs.append(constant)\n",
    "\n",
    "    return np.array(antiderivative_coeffs)\n",
    "\n",
    "def derivative_at_point(coefficients, point):\n",
    "    # Вычисляем коэффициенты первообразной\n",
    "    antiderivative_coeffs = antiderivative(coefficients, 0)\n",
    "\n",
    "    # Вычисляем производную первообразной\n",
    "    derivative_coeffs = np.polyder(antiderivative_coeffs)\n",
    "\n",
    "    # Вычисляем значение производной в заданной точке\n",
    "    derivative_value = np.polyval(derivative_coeffs, point)\n",
    "\n",
    "    return derivative_value\n",
    "\n",
    "\n",
    "coefficients = np.array([4, 6, 0, 1])\n",
    "constant = 7  \n",
    "point = 2\n",
    "antiderivative_coeffs = antiderivative(coefficients, constant)\n",
    "derivative_value = derivative_at_point(antiderivative_coeffs, point)\n",
    "\n",
    "print(\"Коэффициенты первообразной:\", antiderivative_coeffs)\n",
    "print(\"Значение первой производной в точке\", point, \":\", derivative_value)\n"
   ]
  },
  {
   "cell_type": "code",
   "execution_count": null,
   "metadata": {},
   "outputs": [],
   "source": []
  }
 ],
 "metadata": {
  "kernelspec": {
   "display_name": "Python 3 (ipykernel)",
   "language": "python",
   "name": "python3"
  },
  "language_info": {
   "codemirror_mode": {
    "name": "ipython",
    "version": 3
   },
   "file_extension": ".py",
   "mimetype": "text/x-python",
   "name": "python",
   "nbconvert_exporter": "python",
   "pygments_lexer": "ipython3",
   "version": "3.11.5"
  }
 },
 "nbformat": 4,
 "nbformat_minor": 2
}
