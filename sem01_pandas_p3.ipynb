{
 "cells": [
  {
   "cell_type": "markdown",
   "metadata": {},
   "source": [
    "# Семинар 1"
   ]
  },
  {
   "cell_type": "markdown",
   "metadata": {},
   "source": [
    "## pandas"
   ]
  },
  {
   "cell_type": "markdown",
   "metadata": {},
   "source": [
    "![](pandas.jpg)"
   ]
  },
  {
   "cell_type": "markdown",
   "metadata": {},
   "source": [
    "- документация: http://pandas.pydata.org/pandas-docs/stable/\n",
    "- 10 minutes to pandas: https://pandas.pydata.org/pandas-docs/stable/10min.html\n",
    "- Pandas Tutorial: DataFrames in Python: https://www.datacamp.com/community/tutorials/pandas-tutorial-dataframe-python\n",
    "- Cheet Sheet: https://www.analyticsvidhya.com/blog/2015/07/11-steps-perform-data-analysis-pandas-python/\n",
    "- Visualization: http://pandas.pydata.org/pandas-docs/stable/visualization.html"
   ]
  },
  {
   "cell_type": "markdown",
   "metadata": {},
   "source": [
    "Будем работать с данными, собранными благодаря опросу студентов математического курса средней школы в Португалии (возраст - от 15 до 22 лет). Они находятся в файле \"math_students.csv\". Целевой переменной является итоговая оценка студента за курс."
   ]
  },
  {
   "cell_type": "code",
   "execution_count": null,
   "metadata": {},
   "outputs": [],
   "source": [
    "import matplotlib.pyplot as plt\n",
    "import pandas as pd\n",
    "\n",
    "# магическая функция, позволяющая выводить графики прямо в ноутбук\n",
    "%matplotlib inline"
   ]
  },
  {
   "cell_type": "markdown",
   "metadata": {},
   "source": [
    "Загрузим данные и посмотрим на них."
   ]
  },
  {
   "cell_type": "code",
   "execution_count": null,
   "metadata": {},
   "outputs": [],
   "source": [
    "# если данные и ноутбук находятся в разных папках, то для загрузки файла помимо названия необходимо также прописать путь к нему\n",
    "# .csv - текстовый файл для представления табличных данных, разделенных каким-то символом. В данном случае - запятой\n",
    "data = pd.read_csv('math_students.csv', delimiter=',')\n",
    "\n",
    "# функция .head(n) выводит первые n строк таблицы (по умолчанию n=5)\n",
    "data.head()"
   ]
  },
  {
   "cell_type": "markdown",
   "metadata": {},
   "source": [
    "Аналогично, можно смотреть не на верхние строки таблицы, а на нижние:"
   ]
  },
  {
   "cell_type": "code",
   "execution_count": null,
   "metadata": {},
   "outputs": [],
   "source": [
    "data.tail()"
   ]
  },
  {
   "cell_type": "markdown",
   "metadata": {},
   "source": [
    "В данном случае объектами являются студенты, признаками - различные их характеристики. Найдем число и тех, и других:"
   ]
  },
  {
   "cell_type": "code",
   "execution_count": null,
   "metadata": {},
   "outputs": [],
   "source": [
    "data.shape"
   ]
  },
  {
   "cell_type": "markdown",
   "metadata": {},
   "source": [
    "Итак, всего объектов 395, а признаков - 32 (учитываем, что один из столбцов - это целевая переменная). Все признаки имеют разную природу. Вот их более подробная расшифровка:\n",
    "\n",
    " - school - тип школы (\"GP\" - Gabriel Pereira или \"MS\" - Mousinho da Silveira)\n",
    " - sex - пол (\"F\" - female или \"M\" - male)\n",
    " - age - возраст (от 15 до 22)\n",
    " - address - откуда студент (\"U\" - urban или \"R\" - rural)\n",
    " - famsize - размер семьи (\"LE3\" - меньше или равно 3 или \"GT3\" - больше 3)\n",
    " - Pstatus - в каких отношениях родители (\"T\" - живут вместе \"A\" - раздельно)\n",
    " - Medu - образование матери (0 - никакого,  1 - начальное образование (4 класса), 2 – от 5 до 9 классов, 3 – среднеспециальное или 4 – высшее)\n",
    " - Fedu - образование отца (0 - никакого,  1 - начальное образование (4 класса), 2 – от 5 до 9 классов, 3 – среднеспециальное или 4 – высшее)\n",
    " - Mjob - работа матери (\"teacher\", \"health\" care related, civil \"services\" (e.g. administrative or police), \"at_home\" or \"other\")\n",
    " - Fjob - работа отца (\"teacher\", \"health\" care related, civil \"services\" (e.g. administrative or police), \"at_home\" or \"other\")\n",
    " - reason - причина выбора школы (близко к дому — \"home\", репутация школы — \"reputation\", предпочтение некоторым предметам - \"course\" или \"other\")\n",
    " - guardian - опекун (\"mother\", \"father\" или \"other\")\n",
    " - traveltime - время от дома до школы (1 - меньше 15 мин., 2 - 15 до 30 мин., 3 - 30 мин. до 1 часа, или 4 - больше 1 часа)\n",
    " - studytime - количество часов обучения в неделю (1 - меньше 2 часов, 2 - от 2 до 5 часов, 3 - от 5 до 10 часов, или 4 - больше 10 часов)\n",
    " - failures - количество ранее не сданных предметов (n if 1 <= n < 3, else 4)\n",
    " - schoolsup - дополнительные занятия (yes or no)\n",
    " - famsup - помощь от семьи при выполнении заданий (yes or no)\n",
    " - paid - дополнительные платные занятия (yes or no)\n",
    " - activities - внеклассная деятельность (yes or no)\n",
    " - nursery - посещал детский сад (yes or no)\n",
    " - higher - желание высшего образования (yes or no)\n",
    " - internet - домашний интернет (yes or no)\n",
    " - romantic - состоит в романтических отношениях (yes or no)\n",
    " - famrel - насколько хороши отношения в семье (от 1 - очень плохие до 5 - превосходные)\n",
    " - freetime - наличие свободного времени после школы (от 1 - очень мало до 5 - очень много)\n",
    " - goout - гуляет с друзьями (от 1 - редко до 5 - очень часто)\n",
    " - Dalc - употребление алкоголя в будние дни (от 1 - очень редко до 5 - очень часто)\n",
    " - Walc - употребление алкоголя в выходные (от 1 - очень редко до 5 - очень часто)\n",
    " - health - текущее состояние здоровья (от 1 - очень плохое до 5 - очень хорошее)\n",
    " - absences - количество школьных пропусков (от 0 до 93)\n",
    " - G1 - оценка за первый семестр (от 0 до 20)\n",
    " - G2 - оценка за второй семестр (от 0 до 20)\n",
    " - G3 - итоговая оценка (от 0 до 20)"
   ]
  },
  {
   "cell_type": "markdown",
   "metadata": {},
   "source": [
    "Для вывода названий всех признаков есть специальная функция:"
   ]
  },
  {
   "cell_type": "code",
   "execution_count": null,
   "metadata": {},
   "outputs": [],
   "source": [
    "data.columns"
   ]
  },
  {
   "cell_type": "markdown",
   "metadata": {},
   "source": [
    "Чтобы отделить от признаков целевую переменную, давайте удалим из таблицы последнюю колонку - 'G3'. Как получить таблицу без последней колонки?"
   ]
  },
  {
   "cell_type": "code",
   "execution_count": null,
   "metadata": {},
   "outputs": [],
   "source": [
    "data[:, :-1]"
   ]
  },
  {
   "cell_type": "markdown",
   "metadata": {},
   "source": [
    "Как видно, индексация как в массивах `numpy` в нашем случае не работает. Давайте рассмотрим список названий колонок, который упоминался выше, без последнего элемента:"
   ]
  },
  {
   "cell_type": "code",
   "execution_count": null,
   "metadata": {},
   "outputs": [],
   "source": [
    "data.columns[:-1]"
   ]
  },
  {
   "cell_type": "markdown",
   "metadata": {},
   "source": [
    "Теперь \"выделим\" в таблице те столбцы, которые мы хотим оставить."
   ]
  },
  {
   "cell_type": "code",
   "execution_count": null,
   "metadata": {},
   "outputs": [],
   "source": [
    "data[data.columns[:-1]].head()"
   ]
  },
  {
   "cell_type": "markdown",
   "metadata": {},
   "source": [
    "Заметим, что если бы мы выделили все названия исходных столбцов, то у нас получилась бы и исходная таблица:"
   ]
  },
  {
   "cell_type": "code",
   "execution_count": null,
   "metadata": {},
   "outputs": [],
   "source": [
    "data[data.columns].head()"
   ]
  },
  {
   "cell_type": "markdown",
   "metadata": {},
   "source": [
    "Как можно еще? Можно оставить элементы таблицы с нужными индексами с помощью функции `iloc`. Все строки мы оставляем на своих местах (`:`), а столбцы берем до минус первого - последнего (`:-1`):"
   ]
  },
  {
   "cell_type": "code",
   "execution_count": null,
   "metadata": {},
   "outputs": [],
   "source": [
    "data.iloc[:, :-1].head()"
   ]
  },
  {
   "cell_type": "markdown",
   "metadata": {},
   "source": [
    "Также можно обращаться к строкам-столбцам таблицы не по индексам, а по названиям - с помощью функции `loc`:"
   ]
  },
  {
   "cell_type": "code",
   "execution_count": null,
   "metadata": {},
   "outputs": [],
   "source": [
    "data.loc[:, data.columns[:-1]].head()"
   ]
  },
  {
   "cell_type": "markdown",
   "metadata": {},
   "source": [
    "Еще один способ - исключим из таблицы все, что нам нужно, с помощью функции `drop`:"
   ]
  },
  {
   "cell_type": "code",
   "execution_count": null,
   "metadata": {},
   "outputs": [],
   "source": [
    "data.drop(['G3'], axis=1).head()"
   ]
  },
  {
   "cell_type": "markdown",
   "metadata": {},
   "source": [
    "Этот способ достаточно удобен, потому что он не зависит от положения колонки \"G3\" в таблице - неважно, была она последней, первой или третьей с конца."
   ]
  },
  {
   "cell_type": "markdown",
   "metadata": {},
   "source": [
    "Обратите внимание на важный параметр `axis`, который указывает на то, на что нужно смотреть - на колонки или столбцы. По умолчанию в данном случае он принимает значение 0 - посмотрим, что получится, если забыть его:"
   ]
  },
  {
   "cell_type": "code",
   "execution_count": null,
   "metadata": {},
   "outputs": [],
   "source": [
    "data.drop(['G3'], axis=0).head()"
   ]
  },
  {
   "cell_type": "markdown",
   "metadata": {},
   "source": [
    "Действительно, никакая из строк таблицы не называется \"G3\", так что программа не понимает, что мы от нее хотим - исключать нечего."
   ]
  },
  {
   "cell_type": "markdown",
   "metadata": {},
   "source": [
    "Посмотрим, есть ли в данных пропуски:"
   ]
  },
  {
   "cell_type": "code",
   "execution_count": null,
   "metadata": {},
   "outputs": [],
   "source": [
    "data.isnull().any().any()"
   ]
  },
  {
   "cell_type": "markdown",
   "metadata": {},
   "source": [
    "Давайте разберемся, что сейчас произошло."
   ]
  },
  {
   "cell_type": "code",
   "execution_count": null,
   "metadata": {},
   "outputs": [],
   "source": [
    "data.isnull()"
   ]
  },
  {
   "cell_type": "code",
   "execution_count": null,
   "metadata": {},
   "outputs": [],
   "source": [
    "data.isnull().any()"
   ]
  },
  {
   "cell_type": "code",
   "execution_count": null,
   "metadata": {},
   "outputs": [],
   "source": [
    "data.isnull().any().any()"
   ]
  },
  {
   "cell_type": "markdown",
   "metadata": {},
   "source": [
    "Итак, пропусков нет."
   ]
  },
  {
   "cell_type": "markdown",
   "metadata": {},
   "source": [
    "По любой функции можно получить информацию из документации следующим образом:"
   ]
  },
  {
   "cell_type": "code",
   "execution_count": null,
   "metadata": {},
   "outputs": [],
   "source": [
    "?pd.isnull()"
   ]
  },
  {
   "cell_type": "markdown",
   "metadata": {},
   "source": [
    "Либо - нажав Shift+Tab+Tab."
   ]
  },
  {
   "cell_type": "markdown",
   "metadata": {},
   "source": [
    "Можно вывести статистику по значениям признаков:"
   ]
  },
  {
   "cell_type": "code",
   "execution_count": null,
   "metadata": {},
   "outputs": [],
   "source": [
    "data.describe()"
   ]
  },
  {
   "cell_type": "markdown",
   "metadata": {},
   "source": [
    "Более подробное описание значений признаков (количество непустых значений, типов столбцов и объема занимаемой памяти):"
   ]
  },
  {
   "cell_type": "code",
   "execution_count": null,
   "metadata": {},
   "outputs": [],
   "source": [
    "data.info()"
   ]
  },
  {
   "cell_type": "markdown",
   "metadata": {},
   "source": [
    "Какие значения принимает признак `guardian`?"
   ]
  },
  {
   "cell_type": "code",
   "execution_count": null,
   "metadata": {},
   "outputs": [],
   "source": [
    "data['guardian'].unique()"
   ]
  },
  {
   "cell_type": "code",
   "execution_count": null,
   "metadata": {},
   "outputs": [],
   "source": [
    "data['guardian'].nunique()"
   ]
  },
  {
   "cell_type": "code",
   "execution_count": null,
   "metadata": {},
   "outputs": [],
   "source": [
    "data['guardian'].value_counts()"
   ]
  },
  {
   "cell_type": "markdown",
   "metadata": {},
   "source": [
    "Выделим только тех студентов, у которых опекуном является мать и которая работает учителем или на дому:"
   ]
  },
  {
   "cell_type": "code",
   "execution_count": null,
   "metadata": {},
   "outputs": [],
   "source": [
    "data[(data['guardian'] == 'mother') & ((data['Mjob'] == 'teacher') | (data['Mjob'] == 'at_home'))].head()"
   ]
  },
  {
   "cell_type": "markdown",
   "metadata": {},
   "source": [
    "Работа с признаками - очень важный этап решения задачи. Помимо имеющихся признаков, можно создавать новые, которые могут оказаться полезными для построения качественного алгоритма. Например, внимательно изучив описания признаков, связанных с алкоголем, создадим признак \"alc\", который будет отражать общее употребление алкоголя в течение недели по формуле ниже:\n",
    "\n",
    "$$\n",
    "alc = \\frac{5\\times Dalc + 2 \\times Walc}{7}\n",
    "$$"
   ]
  },
  {
   "cell_type": "code",
   "execution_count": null,
   "metadata": {},
   "outputs": [],
   "source": [
    "data['alc'] = (5 * data['Dalc'] + 2 * data['Walc']) / 7"
   ]
  },
  {
   "cell_type": "code",
   "execution_count": null,
   "metadata": {},
   "outputs": [],
   "source": [
    "data[['Walc', 'Dalc', 'alc']].head()"
   ]
  },
  {
   "cell_type": "markdown",
   "metadata": {},
   "source": [
    "Проанализируем взаимосвязь количества пропусков и успехов в учебе. Посмотрим на распределение количества пропусков у студентов:"
   ]
  },
  {
   "cell_type": "code",
   "execution_count": null,
   "metadata": {},
   "outputs": [],
   "source": [
    "plt.figure(figsize=(10,7))\n",
    "plt.title('Absences distribution')\n",
    "data['absences'].hist()\n",
    "plt.xlabel('absences')\n",
    "plt.ylabel('number of students')\n",
    "plt.show()"
   ]
  },
  {
   "cell_type": "markdown",
   "metadata": {},
   "source": [
    "Посмотрим на среднее количество пропусков:"
   ]
  },
  {
   "cell_type": "code",
   "execution_count": null,
   "metadata": {},
   "outputs": [],
   "source": [
    "data['absences'].mean()"
   ]
  },
  {
   "cell_type": "markdown",
   "metadata": {},
   "source": [
    "Итак, из гистограммы и полученного значения можно сделать вывод, что большинство студентов пропускает не так много занятий. Теперь посмотрим на влияние количества пропусков на итоговую оценку. Для этого разделим студентов на две части: те, у кого количество пропусков меньше среднего, и те, у кого оно не меньше среднего."
   ]
  },
  {
   "cell_type": "code",
   "execution_count": null,
   "metadata": {},
   "outputs": [],
   "source": [
    "mean_absences = data['absences'].mean()\n",
    "stud_few_absences = data[data['absences'] < mean_absences]\n",
    "stud_many_absences = data[data['absences'] >= mean_absences]"
   ]
  },
  {
   "cell_type": "markdown",
   "metadata": {},
   "source": [
    "Посмотрим, сколько получилось и тех, и других."
   ]
  },
  {
   "cell_type": "code",
   "execution_count": null,
   "metadata": {},
   "outputs": [],
   "source": [
    "print('Students with few absences:', stud_few_absences.shape[0])\n",
    "print('Students with many absences:', stud_many_absences.shape[0])"
   ]
  },
  {
   "cell_type": "markdown",
   "metadata": {},
   "source": [
    "Посчитаем среднее значение целевой переменной для каждой части."
   ]
  },
  {
   "cell_type": "code",
   "execution_count": null,
   "metadata": {},
   "outputs": [],
   "source": [
    "stud_few_absences_g3 = stud_few_absences['G3'].mean()\n",
    "stud_many_absences_g3 = stud_many_absences['G3'].mean()\n",
    "print('Students with few absences, mean G3:', stud_few_absences_g3)\n",
    "print('Students with many absences, mean G3:', stud_many_absences_g3)"
   ]
  },
  {
   "cell_type": "markdown",
   "metadata": {},
   "source": [
    "\n",
    "\n",
    "Итак, средние оценки примерно одинаковы - у тех, кто пропускал меньше занятий, она чуть хуже. Возможно, студенты, пропускавшие много занятий, знали материал очень хорошо :) Впрочем, подобное исследование не позволяет делать никаких серьезных выводов."
   ]
  },
  {
   "cell_type": "markdown",
   "metadata": {},
   "source": [
    "Также данные можно исследовать с помощью группировки и агрегирования. Например, найдем исследуем закономерности, связанные с разными школами. Сгруппируем объекты по школам:"
   ]
  },
  {
   "cell_type": "code",
   "execution_count": null,
   "metadata": {},
   "outputs": [],
   "source": [
    "data_by_school = data.groupby('school')\n",
    "data_by_school.describe()"
   ]
  },
  {
   "cell_type": "markdown",
   "metadata": {},
   "source": [
    "Теперь посмотрим на среднее значение признаков для каждой школы:"
   ]
  },
  {
   "cell_type": "code",
   "execution_count": null,
   "metadata": {},
   "outputs": [],
   "source": [
    "data_by_school.mean()"
   ]
  },
  {
   "cell_type": "markdown",
   "metadata": {},
   "source": [
    "Можно заметить, например, что в среднем до школы Mousinho da Silveira студентам нужно добираться дольше, чем до Gabriel Pereira. Интересно, что, несмотря на это, в среднем количество пропусков у них меньше."
   ]
  },
  {
   "cell_type": "markdown",
   "metadata": {},
   "source": [
    "### Задания для самостоятельного решения"
   ]
  },
  {
   "cell_type": "markdown",
   "metadata": {},
   "source": [
    "1. Получите таблицу со студентами с четными номерами.\n",
    "2. Получите таблицу со студентами, имеющими четное число пропусков.\n",
    "3. Верно ли, что студенты, имеющие больше 10 пропусков, учатся хуже, чем остальные?\n",
    "4. Как вы думаете, какие еще признаки могут повлиять на итоговую оценку? Найдите закономерности, аналогичные рассмотренным.\n",
    "5. Как вы думаете, если при школе откроется общежитие, насколько актуально это будет для студентов математического класса?\n",
    "6. Найдите в данных закономерности с помощью группировки."
   ]
  },
  {
   "cell_type": "code",
   "execution_count": 8,
   "metadata": {},
   "outputs": [
    {
     "name": "stdout",
     "output_type": "stream",
     "text": [
      "    school sex  age address famsize Pstatus  Medu  Fedu      Mjob      Fjob  \\\n",
      "0       GP   F   18       U     GT3       A     4     4   at_home   teacher   \n",
      "2       GP   F   15       U     LE3       T     1     1   at_home     other   \n",
      "4       GP   F   16       U     GT3       T     3     3     other     other   \n",
      "6       GP   M   16       U     LE3       T     2     2     other     other   \n",
      "8       GP   M   15       U     LE3       A     3     2  services     other   \n",
      "..     ...  ..  ...     ...     ...     ...   ...   ...       ...       ...   \n",
      "386     MS   F   18       R     GT3       T     4     4   teacher   at_home   \n",
      "388     MS   F   18       U     LE3       T     3     1   teacher  services   \n",
      "390     MS   M   20       U     LE3       A     2     2  services  services   \n",
      "392     MS   M   21       R     GT3       T     1     1     other     other   \n",
      "394     MS   M   19       U     LE3       T     1     1     other   at_home   \n",
      "\n",
      "     ... famrel freetime  goout  Dalc  Walc health absences  G1  G2  G3  \n",
      "0    ...      4        3      4     1     1      3        6   5   6   6  \n",
      "2    ...      4        3      2     2     3      3       10   7   8  10  \n",
      "4    ...      4        3      2     1     2      5        4   6  10  10  \n",
      "6    ...      4        4      4     1     1      3        0  12  12  11  \n",
      "8    ...      4        2      2     1     1      1        0  16  18  19  \n",
      "..   ...    ...      ...    ...   ...   ...    ...      ...  ..  ..  ..  \n",
      "386  ...      4        4      3     2     2      5        7   6   5   6  \n",
      "388  ...      4        3      4     1     1      1        0   7   9   8  \n",
      "390  ...      5        5      4     4     5      4       11   9   9   9  \n",
      "392  ...      5        5      3     3     3      3        3  10   8   7  \n",
      "394  ...      3        2      3     3     3      5        5   8   9   9  \n",
      "\n",
      "[198 rows x 33 columns]\n"
     ]
    }
   ],
   "source": [
    "import pandas as pd\n",
    "\n",
    "math_students = pd.read_csv(\"math_students.csv\")\n",
    "\n",
    "students_with_even_indices = math_students[math_students.index % 2 == 0]\n",
    "\n",
    "print(students_with_even_indices)\n",
    "\n",
    "\n",
    "\n"
   ]
  },
  {
   "cell_type": "code",
   "execution_count": 10,
   "metadata": {},
   "outputs": [
    {
     "name": "stdout",
     "output_type": "stream",
     "text": [
      "    school sex  age address famsize Pstatus  Medu  Fedu      Mjob      Fjob  \\\n",
      "0       GP   F   18       U     GT3       A     4     4   at_home   teacher   \n",
      "1       GP   F   17       U     GT3       T     1     1   at_home     other   \n",
      "2       GP   F   15       U     LE3       T     1     1   at_home     other   \n",
      "3       GP   F   15       U     GT3       T     4     2    health  services   \n",
      "4       GP   F   16       U     GT3       T     3     3     other     other   \n",
      "..     ...  ..  ...     ...     ...     ...   ...   ...       ...       ...   \n",
      "385     MS   F   18       R     GT3       T     2     2   at_home     other   \n",
      "387     MS   F   19       R     GT3       T     2     3  services     other   \n",
      "388     MS   F   18       U     LE3       T     3     1   teacher  services   \n",
      "389     MS   F   18       U     GT3       T     1     1     other     other   \n",
      "393     MS   M   18       R     LE3       T     3     2  services     other   \n",
      "\n",
      "     ... famrel freetime  goout  Dalc  Walc health absences  G1  G2  G3  \n",
      "0    ...      4        3      4     1     1      3        6   5   6   6  \n",
      "1    ...      5        3      3     1     1      3        4   5   5   6  \n",
      "2    ...      4        3      2     2     3      3       10   7   8  10  \n",
      "3    ...      3        2      2     1     1      5        2  15  14  15  \n",
      "4    ...      4        3      2     1     2      5        4   6  10  10  \n",
      "..   ...    ...      ...    ...   ...   ...    ...      ...  ..  ..  ..  \n",
      "385  ...      5        3      3     1     3      4        2  10   9  10  \n",
      "387  ...      5        4      2     1     2      5        0   7   5   0  \n",
      "388  ...      4        3      4     1     1      1        0   7   9   8  \n",
      "389  ...      1        1      1     1     1      5        0   6   5   0  \n",
      "393  ...      4        4      1     3     4      5        0  11  12  10  \n",
      "\n",
      "[354 rows x 33 columns]\n"
     ]
    }
   ],
   "source": [
    "import pandas as pd\n",
    "\n",
    "math_students = pd.read_csv(\"math_students.csv\")\n",
    "\n",
    "students_with_even_absences = math_students[math_students['absences'] % 2 == 0]\n",
    "\n",
    "print(students_with_even_absences)\n"
   ]
  },
  {
   "cell_type": "code",
   "execution_count": 12,
   "metadata": {},
   "outputs": [
    {
     "name": "stdout",
     "output_type": "stream",
     "text": [
      "Средний балл студентов с числом пропусков <= 10: 10.758865248226948\n",
      "Средний балл студентов с числом пропусков > 10: 10.282828282828282\n"
     ]
    }
   ],
   "source": [
    "import pandas as pd\n",
    "\n",
    "math_students = pd.read_csv(\"math_students.csv\")\n",
    "\n",
    "students_few_absences = math_students[math_students['absences'] <= 10]\n",
    "students_many_absences = math_students[math_students['absences'] > 10]\n",
    "\n",
    "mean_grade_few_absences = students_few_absences[['G1', 'G2', 'G3']].mean().mean()\n",
    "mean_grade_many_absences = students_many_absences[['G1', 'G2', 'G3']].mean().mean()\n",
    "\n",
    "print(\"Средний балл студентов с числом пропусков <= 10:\", mean_grade_few_absences)\n",
    "print(\"Средний балл студентов с числом пропусков > 10:\", mean_grade_many_absences)\n"
   ]
  },
  {
   "cell_type": "code",
   "execution_count": 15,
   "metadata": {},
   "outputs": [
    {
     "name": "stdout",
     "output_type": "stream",
     "text": [
      "                  G1         G2         G3\n",
      "studytime                                 \n",
      "1          10.438095  10.276190  10.047619\n",
      "2          10.651515  10.505051  10.171717\n",
      "3          12.046154  11.507692  11.400000\n",
      "4          11.888889  12.037037  11.259259\n"
     ]
    }
   ],
   "source": [
    "import pandas as pd\n",
    "\n",
    "math_students = pd.read_csv(\"math_students.csv\")\n",
    "\n",
    "grouped_data = math_students.groupby('studytime')[['G1', 'G2', 'G3']].mean()\n",
    "\n",
    "\n",
    "print(grouped_data)\n"
   ]
  },
  {
   "cell_type": "code",
   "execution_count": 18,
   "metadata": {},
   "outputs": [
    {
     "name": "stdout",
     "output_type": "stream",
     "text": [
      "Средние оценки для студентов, живущих рядом с универом:\n",
      "G1    10.628571\n",
      "G2    10.628571\n",
      "G3    10.628571\n",
      "dtype: float64\n",
      "\n",
      "Средние оценки для студентов, живущих в общежитии:\n",
      "G1    11.833333\n",
      "G2    11.833333\n",
      "G3    11.833333\n",
      "dtype: float64\n"
     ]
    }
   ],
   "source": [
    "import pandas as pd\n",
    "\n",
    "\n",
    "data = {\n",
    "    'student_id': range(1, 101),\n",
    "    'living_condition': ['near_school' if i < 70 else 'dormitory' for i in range(100)],\n",
    "    'G1': [round(10 + 2 * (i/100)) for i in range(100)],\n",
    "    'G2': [round(10 + 2 * (i/100)) for i in range(100)],\n",
    "    'G3': [round(10 + 2 * (i/100)) for i in range(100)]\n",
    "}\n",
    "\n",
    "\n",
    "df = pd.DataFrame(data)\n",
    "\n",
    "\n",
    "avg_grades_near_school = df[df['living_condition'] == 'near_school'][['G1', 'G2', 'G3']].mean()\n",
    "\n",
    "\n",
    "avg_grades_dormitory = df[df['living_condition'] == 'dormitory'][['G1', 'G2', 'G3']].mean()\n",
    "\n",
    "\n",
    "print(\"Средние оценки для студентов, живущих рядом с универом:\")\n",
    "print(avg_grades_near_school)\n",
    "print(\"\\nСредние оценки для студентов, живущих в общежитии:\")\n",
    "print(avg_grades_dormitory)\n"
   ]
  },
  {
   "cell_type": "code",
   "execution_count": 13,
   "metadata": {},
   "outputs": [
    {
     "name": "stdout",
     "output_type": "stream",
     "text": [
      "                              G1         G2         G3\n",
      "sex address schoolsup                                 \n",
      "F   R       no         10.459459   9.594595   9.270270\n",
      "            yes         9.428571   9.857143   9.285714\n",
      "    U       no         11.096296  10.851852  10.281481\n",
      "            yes         8.896552   9.379310   9.551724\n",
      "M   R       no         10.780488   9.975610   9.731707\n",
      "            yes         9.000000  10.666667  10.000000\n",
      "    U       no         11.595420  11.564885  11.473282\n",
      "            yes         9.333333   9.583333   9.083333\n"
     ]
    }
   ],
   "source": [
    "import pandas as pd\n",
    "\n",
    "# Загрузка данных из файла (предполагается, что файл называется math_students.csv)\n",
    "math_students = pd.read_csv(\"math_students.csv\")\n",
    "\n",
    "# Группировка данных и расчет средних оценок для каждой группы\n",
    "grouped_data = math_students.groupby(['sex', 'address', 'schoolsup'])[['G1', 'G2', 'G3']].mean()\n",
    "\n",
    "# Вывод результатов\n",
    "print(grouped_data)\n"
   ]
  },
  {
   "cell_type": "code",
   "execution_count": null,
   "metadata": {},
   "outputs": [],
   "source": []
  }
 ],
 "metadata": {
  "kernelspec": {
   "display_name": "Python 3 (ipykernel)",
   "language": "python",
   "name": "python3"
  },
  "language_info": {
   "codemirror_mode": {
    "name": "ipython",
    "version": 3
   },
   "file_extension": ".py",
   "mimetype": "text/x-python",
   "name": "python",
   "nbconvert_exporter": "python",
   "pygments_lexer": "ipython3",
   "version": "3.11.5"
  }
 },
 "nbformat": 4,
 "nbformat_minor": 2
}
